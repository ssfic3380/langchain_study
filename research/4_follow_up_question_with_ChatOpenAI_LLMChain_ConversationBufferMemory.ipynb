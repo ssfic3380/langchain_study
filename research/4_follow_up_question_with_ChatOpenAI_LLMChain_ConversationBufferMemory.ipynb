{
 "cells": [
  {
   "cell_type": "markdown",
   "source": [
    "<H1>Memory가 제대로 적용되지 않은 듯 함. 실패한 버전</H1>\n",
    "<H2>이유: Memory에는 Input이 1개만 들어갈 수 있음</H2>"
   ],
   "metadata": {
    "collapsed": false
   }
  },
  {
   "cell_type": "code",
   "execution_count": 1,
   "outputs": [
    {
     "data": {
      "text/plain": "True"
     },
     "execution_count": 1,
     "metadata": {},
     "output_type": "execute_result"
    }
   ],
   "source": [
    "from dotenv import load_dotenv\n",
    "load_dotenv('../config.env')"
   ],
   "metadata": {
    "collapsed": false,
    "ExecuteTime": {
     "end_time": "2023-07-02T12:46:05.385049600Z",
     "start_time": "2023-07-02T12:46:05.374047500Z"
    }
   }
  },
  {
   "cell_type": "code",
   "execution_count": 2,
   "outputs": [],
   "source": [
    "import sys\n",
    "import pandas as pd\n",
    "\n",
    "pd.set_option('display.width', sys.maxsize)"
   ],
   "metadata": {
    "collapsed": false,
    "ExecuteTime": {
     "end_time": "2023-07-02T12:46:05.790142900Z",
     "start_time": "2023-07-02T12:46:05.387050400Z"
    }
   }
  },
  {
   "cell_type": "code",
   "execution_count": 3,
   "outputs": [],
   "source": [
    "from langchain import PromptTemplate, LLMChain\n",
    "from langchain.chat_models import ChatOpenAI\n",
    "from langchain.memory import ConversationBufferMemory\n",
    "from handler.custom_streaming_handler import CustomStreamingCallbackHandler\n",
    "from langchain.prompts.chat import (\n",
    "    ChatPromptTemplate,\n",
    "    SystemMessagePromptTemplate,\n",
    "    HumanMessagePromptTemplate,\n",
    "    AIMessagePromptTemplate,\n",
    ")\n",
    "\n",
    "chat = ChatOpenAI(temperature=0.5,\n",
    "                  streaming=True,\n",
    "                  callbacks=[CustomStreamingCallbackHandler()],\n",
    "                  verbose=True)\n",
    "\n",
    "memory = ConversationBufferMemory(memory_key=\"chat_history\",\n",
    "                                  return_messages=True)"
   ],
   "metadata": {
    "collapsed": false,
    "ExecuteTime": {
     "end_time": "2023-07-02T12:46:07.274481400Z",
     "start_time": "2023-07-02T12:46:05.792144Z"
    }
   }
  },
  {
   "cell_type": "code",
   "execution_count": 4,
   "outputs": [],
   "source": [
    "# 1. template를 만들고, system message prompt로 변환한다.\n",
    "info_template = \"\"\"\n",
    "너는 회사의 신입 사원을 뽑는 면접관이다.\n",
    "주어지는 회사 이름, 직무명, 모집 공고, 그리고 면접자의 자기소개서를 바탕으로 면접자의 답변에 대해서 평가해야 한다.\n",
    "\n",
    "먼저 회사와 직무에 대한 정보는 다음과 같다.\n",
    "```\n",
    "회사명: {company}\n",
    "직무명: {job}\n",
    "모집 공고: {job_requirements}\n",
    "```\n",
    "\n",
    "다음은 면접자의 자기소개서이다.\n",
    "```\n",
    "{cover_letter}\n",
    "```\n",
    "\n",
    "평가는 좋은 점과 아쉬운 점으로 나누어서 평가하라.\n",
    "답변은 아래의 형식을 따라서 출력하라.\n",
    "```\n",
    "좋은 점:\n",
    " - 좋은 점들\n",
    "\n",
    "아쉬운 점:\n",
    " - 아쉬운 점들\n",
    "```\n",
    "\"\"\"\n",
    "\n",
    "info_prompt = PromptTemplate(\n",
    "    template=info_template,\n",
    "    input_variables=[\"company\", \"job\", \"job_requirements\", \"cover_letter\"]\n",
    ")\n",
    "\n",
    "initial_system_message_prompt = SystemMessagePromptTemplate(\n",
    "    prompt=info_prompt\n",
    ")"
   ],
   "metadata": {
    "collapsed": false,
    "ExecuteTime": {
     "end_time": "2023-07-02T12:46:07.275482100Z",
     "start_time": "2023-07-02T12:46:07.274481400Z"
    }
   }
  },
  {
   "cell_type": "code",
   "execution_count": 5,
   "outputs": [],
   "source": [
    "# 2. human_template를 만들고, human message prompt로 변환한다.\n",
    "user_input_template =\"\"\"\n",
    "{chat_history}\n",
    "{user_input}\n",
    "\"\"\"\n",
    "\n",
    "user_input_prompt = PromptTemplate(\n",
    "    template=user_input_template,\n",
    "    input_variables=[\"chat_history\", \"user_input\"],\n",
    ")\n",
    "\n",
    "initial_human_message_prompt = HumanMessagePromptTemplate(\n",
    "    prompt=user_input_prompt\n",
    ")"
   ],
   "metadata": {
    "collapsed": false,
    "ExecuteTime": {
     "end_time": "2023-07-02T12:46:07.290488800Z",
     "start_time": "2023-07-02T12:46:07.276482600Z"
    }
   }
  },
  {
   "cell_type": "code",
   "execution_count": 6,
   "outputs": [],
   "source": [
    "# 3. system message prompt와 human message prompt를 이용해서 chat prompt를 만든다.\n",
    "initial_chat_prompt = ChatPromptTemplate.from_messages([initial_system_message_prompt, initial_human_message_prompt])"
   ],
   "metadata": {
    "collapsed": false,
    "ExecuteTime": {
     "end_time": "2023-07-02T12:46:07.308491500Z",
     "start_time": "2023-07-02T12:46:07.290488800Z"
    }
   }
  },
  {
   "cell_type": "code",
   "execution_count": 7,
   "outputs": [],
   "source": [
    "# 4. Chain으로 llm과 prompt 엮기\n",
    "info_chain = LLMChain(llm=chat,\n",
    "                      prompt=initial_chat_prompt,\n",
    "                      verbose=True,\n",
    "                      memory=memory\n",
    ")"
   ],
   "metadata": {
    "collapsed": false,
    "ExecuteTime": {
     "end_time": "2023-07-02T12:46:07.320252900Z",
     "start_time": "2023-07-02T12:46:07.305491Z"
    }
   }
  },
  {
   "cell_type": "code",
   "execution_count": 8,
   "outputs": [
    {
     "name": "stdout",
     "output_type": "stream",
     "text": [
      "\n",
      "\n",
      "\u001B[1m> Entering new  chain...\u001B[0m\n",
      "Prompt after formatting:\n",
      "\u001B[32;1m\u001B[1;3mSystem: \n",
      "너는 회사의 신입 사원을 뽑는 면접관이다.\n",
      "주어지는 회사 이름, 직무명, 모집 공고, 그리고 면접자의 자기소개서를 바탕으로 면접자의 답변에 대해서 평가해야 한다.\n",
      "\n",
      "먼저 회사와 직무에 대한 정보는 다음과 같다.\n",
      "```\n",
      "회사명: LG CNS\n",
      "직무명: DX Engineer\n",
      "모집 공고: \n",
      "전사: DX Engineer\n",
      "전공: 전공 무관 (*) 단, 컴퓨터공학/정보통신공학/산업공학/전자전기공학/기계공학 등 이공계열은 우대합니다\n",
      "근무지: 서울특별시\n",
      "인원: 00명\n",
      "상세내용:\n",
      "- 이런 일을 해요\n",
      "  - 다양한 산업 분야에서 DX 신기술로 고객 맞춤형 서비스를 제공하며, 고객 비즈니스에 가치를 더하는 일을 합니다\n",
      "  - 기존에 없던 새로운 시스템을 만들어내고, 시스템을 안정적으로 운영해냅니다.\n",
      "  - 디지털금융, 지능형 정부, 스마트시티, 스마트 교통 서비스 등 편리하고 보다 나은 삶을 위한 변화를 이끌어갑니다.\n",
      "  - 국내외 고객에게 DX환경에 적합한 클라우드 인프라 설계/구축/컨설팅/운영 서비스를 제공합니다.\n",
      "  - 국내 및 해외(미국, 유럽, 중국 등) 데이터센터와 클라우드 인프라 기술을 이용하여, 전 세계를 하나로 연결하는 서비스를 제공합니다.\n",
      "\n",
      "- 이런 분이면 더 좋겠어요!\n",
      "  - 새로운 시도를 즐기고, IT를 통해 세상의 변화를 이끌어가고 싶은 분\n",
      "  - 끊임없이 신기술을 익히고 적용하며 성장하고 싶으신 분\n",
      "  - 비즈니스를 이해하고 더 편리한 서비스를 제공하는데 관심이 많으신 분\n",
      "\n",
      "```\n",
      "\n",
      "다음은 면접자의 자기소개서이다.\n",
      "```\n",
      "\n",
      "1. LG CNS에서 근무하고 싶은 이유에 대해서 관련된 경험 및 역량 등 자신을 어필할 수 있는 내용을 기반으로 자유롭게 기술하시기 바랍니다.\n",
      "답변:\n",
      "저는 기술적 도전을 통해 기대를 뛰어넘는 결과를 만들어서 사용자에게 더욱 편리한 서비스를 제공하는 개발자가 되고 싶습니다. LG CNS는 최초로 자바를 개발언어로 사용하는 도전을 통해 고객의 니즈를 바탕으로 더욱 뛰어난 결과를 만들어낸 경험이 있고,카카오뱅크 전산시스템을 통해 인터넷 은행의 시대를 열었습니다. 또한 현재 AI,클라우드,IoT,블록체인 등 4차산업기술을 선도하고 있고, 그 중에서도 특히 클라우드 전환과 MSP 사업에 앞서고 가장 많은 AM프로젝트를 수행하는 등 클라우드 기술을 기반으로 디지털 혁신에 앞장서고 있습니다.\n",
      "\n",
      "저는 프로젝트를 진행하며 요구사항을 직접 세우고 분석하는 과정을 통해 애플리케이션 설계,데이터 모델링,백엔드 등에 대한 지식을 갖출 수 있었고, 앱,웹,AI모델링과 같은 다양한 기술에 도전하면서 새로운 기술에 대한 적응력을 얻었습니다. 이러한 경험과 LG CNS의 혁신 정신을 바탕으로 신기술을 배우고 활용하여 고객에게 최고의 서비스를 제공하고자 합니다.\n",
      "\n",
      "\n",
      "2. 지원분야와 관련된 지식이나 경험을 기재하여 주십시오.\n",
      "답변:\n",
      "\"식사 추천 앱\"\n",
      "사용자의 식습관을 토대로 음식을 추천해주는 안드로이드 앱 프로젝트로, 설문 조사를 통해 약 200여 건의 식사 기록을 확보하고 AWS의 SaaS형태의 학습 서비스를 이용하여 학습 한 뒤, AWS 클라우드 서비스를 기반으로 서버를 구축한 서비스입니다. 저는 AWS 서비스와 API를 통해 통신하며 앱에서 음식 추천 목록과 선택된 음식의 정보를 띄워주고, 게시판 및 댓글 기능을 지원하는 등 앱의 기능을 구현하는 역할을 담당했습니다.\n",
      "\n",
      "이 프로젝트를 진행하면서 사용자의 시점에서 직접 요구 사항을 작성하고, 개발자의 시점에서 요구사항을 만족하기 위해 필요한 기술과 리스크를 예측해볼 수 있었습니다. 또한 API를 통한 서버와의 통신 시 주고 받아야 할 요청 사항과 응답 내용에 대한 협의 과정을 겪을 수 있었고, 짧은 시간 내에 프로젝트에 적용하기 위해서 안드로이드 docs를 찾아가며 지식을 습득하고 적용했던 과정을 통해서 새로운 지식 습득에 대한 자신감을 가질 수 있었습니다.\n",
      "\n",
      "\n",
      "3. 10년 뒤 본인이 기대하는 모습을 기재하여 주십시오.\n",
      "답변:\n",
      "지금의 DX는 단순히 종이 신문을 스마트폰으로 보여주고, 쇼핑몰을 인터넷으로 옮기는 것이 아니라 4차 산업 기술을 인프라나 시스템에 적용하고 서비스와 결합하고 있습니다. 하지만 4차 산업 기술들은 이제야 제대로 된 발전 과정에 들어섰을 뿐, 진짜 변화는 지금부터라고 생각합니다. 그 중에서도 클라우드 분야는 앞으로는 개인 컴퓨터 없이 모니터와 마우스만 가지고 컴퓨팅 자원을 빌려서 사용하는 시대가 올 정도로 발전하게 될 것이라고 생각합니다.\n",
      "\n",
      "이런 미래를 앞두고 있는 상황에서 저는 클라우드 기반의 인프라 지식 또한 DX 엔지니어로써 갖추어야 할 소양이라고 생각합니다. 저는 다양한 프로젝트에 참여하여 경험을 쌓으면서 다양한 분야의 업무와 시스템 구조를 파악하며 각 산업에 대한 지식을 갖추고, 동시에 지속적인 자기 계발을 통해 개발 기술과 함께 클라우드 지식까지 갖춘 전문가가 되어 고객의 기대를 뛰어넘는 DX 경험을 제공하는 최고의 인재가 되겠습니다.\n",
      "\n",
      "```\n",
      "\n",
      "평가는 좋은 점과 아쉬운 점으로 나누어서 평가하라.\n",
      "답변은 아래의 형식을 따라서 출력하라.\n",
      "```\n",
      "좋은 점:\n",
      " - 좋은 점들\n",
      "\n",
      "아쉬운 점:\n",
      " - 아쉬운 점들\n",
      "```\n",
      "\n",
      "Human: \n",
      "[]\n",
      "\n",
      "               면접 질문: 팀원과의 갈등이 있을 때 해결한 경험이 있는가?\n",
      "               면접 답변: 안드로이드 앱 프로젝트를 계획할 당시에 추천된 음식을 실제로 먹었는가를 확인하는 방식에 대해서 의견 차이가 있었던 경험이 있습니다.\n",
      "                       저는 처음에 먹을래요 버튼을 추가하자는 의견을, 다른 팀원은 단순히 해당 음식을 클릭했을 때 실제로 먹었다고 판단하자는 의견을 냈었는데\n",
      "                       서로의 의견에 대한 장단점을 이야기하다 보니 아예 누르지 않고 앱을 끌 수도 있다는 새로운 문제점을 발견하게 되었고,\n",
      "                       그 문제점까지 포함해서 해결할 방법을 도출하게 되었습니다.\n",
      "                       이런 경험을 통해서 의견을 주고받으면서 고민하는 과정의 중요성에 알게 되었습니다.\n",
      "               \n",
      "\u001B[0m\n",
      "Run when LLM starts running.\n",
      "좋은 점:\n",
      " - 면접자는 회사의 DX 엔지니어로 일하고 싶은 이유에 대해 자신의 경험과 회사의 혁신 정신을 잘 어필하였다.\n",
      " - 면접자는 지원분야와 관련된 프로젝트 경험을 자세히 설명하며, 프로젝트에서의 역할과 기술적인 도전에 대한 이해를 보여주었다.\n",
      " - 면접자는 10년 뒤 자신의 모습에 대한 명확한 비전과 클라우드 분야에 대한 이해를 보여주었다.\n",
      " - 면접자는 팀원과의 갈등을 해결한 경험에 대해 구체적으로 이야기하며, 문제 해결 능력과 협업 능력을 강조하였다.\n",
      "\n",
      "아쉬운 점:\n",
      " - 면접자의 답변은 전반적으로 좋았으나, 좀 더 구체적인 예시나 세부적인 내용을 추가하는 것이 좋을 것 같다.\n",
      " - 면접자의 답변은 회사와 직무에 대한 이해를 보여주었지만, 좀 더 회사의 가치나 비전과 연결지어서 이야기하는 것이 좋을 것 같다.\n",
      "\n",
      "\u001B[1m> Finished chain.\u001B[0m\n"
     ]
    },
    {
     "ename": "ValueError",
     "evalue": "One input key expected got ['job_requirements', 'user_input', 'job', 'cover_letter', 'company']",
     "output_type": "error",
     "traceback": [
      "\u001B[1;31m---------------------------------------------------------------------------\u001B[0m",
      "\u001B[1;31mValueError\u001B[0m                                Traceback (most recent call last)",
      "Cell \u001B[1;32mIn[8], line 47\u001B[0m\n\u001B[0;32m      5\u001B[0m input_job_requirements \u001B[38;5;241m=\u001B[39m \u001B[38;5;124m\"\"\"\u001B[39m\n\u001B[0;32m      6\u001B[0m \u001B[38;5;124m전사: DX Engineer\u001B[39m\n\u001B[0;32m      7\u001B[0m \u001B[38;5;124m전공: 전공 무관 (*) 단, 컴퓨터공학/정보통신공학/산업공학/전자전기공학/기계공학 등 이공계열은 우대합니다\u001B[39m\n\u001B[1;32m   (...)\u001B[0m\n\u001B[0;32m     21\u001B[0m \u001B[38;5;124m  - 비즈니스를 이해하고 더 편리한 서비스를 제공하는데 관심이 많으신 분\u001B[39m\n\u001B[0;32m     22\u001B[0m \u001B[38;5;124m\"\"\"\u001B[39m\n\u001B[0;32m     24\u001B[0m input_cover_letter \u001B[38;5;241m=\u001B[39m \u001B[38;5;124m\"\"\"\u001B[39m\n\u001B[0;32m     25\u001B[0m \u001B[38;5;124m1. LG CNS에서 근무하고 싶은 이유에 대해서 관련된 경험 및 역량 등 자신을 어필할 수 있는 내용을 기반으로 자유롭게 기술하시기 바랍니다.\u001B[39m\n\u001B[0;32m     26\u001B[0m \u001B[38;5;124m답변:\u001B[39m\n\u001B[1;32m   (...)\u001B[0m\n\u001B[0;32m     44\u001B[0m \u001B[38;5;124m이런 미래를 앞두고 있는 상황에서 저는 클라우드 기반의 인프라 지식 또한 DX 엔지니어로써 갖추어야 할 소양이라고 생각합니다. 저는 다양한 프로젝트에 참여하여 경험을 쌓으면서 다양한 분야의 업무와 시스템 구조를 파악하며 각 산업에 대한 지식을 갖추고, 동시에 지속적인 자기 계발을 통해 개발 기술과 함께 클라우드 지식까지 갖춘 전문가가 되어 고객의 기대를 뛰어넘는 DX 경험을 제공하는 최고의 인재가 되겠습니다.\u001B[39m\n\u001B[0;32m     45\u001B[0m \u001B[38;5;124m\"\"\"\u001B[39m\n\u001B[1;32m---> 47\u001B[0m \u001B[43minfo_chain\u001B[49m\u001B[38;5;241;43m.\u001B[39;49m\u001B[43mrun\u001B[49m\u001B[43m(\u001B[49m\u001B[43mcompany\u001B[49m\u001B[38;5;241;43m=\u001B[39;49m\u001B[43minput_company\u001B[49m\u001B[43m,\u001B[49m\n\u001B[0;32m     48\u001B[0m \u001B[43m               \u001B[49m\u001B[43mjob\u001B[49m\u001B[38;5;241;43m=\u001B[39;49m\u001B[43minput_job\u001B[49m\u001B[43m,\u001B[49m\n\u001B[0;32m     49\u001B[0m \u001B[43m               \u001B[49m\u001B[43mjob_requirements\u001B[49m\u001B[38;5;241;43m=\u001B[39;49m\u001B[43minput_job_requirements\u001B[49m\u001B[43m,\u001B[49m\n\u001B[0;32m     50\u001B[0m \u001B[43m               \u001B[49m\u001B[43mcover_letter\u001B[49m\u001B[38;5;241;43m=\u001B[39;49m\u001B[43minput_cover_letter\u001B[49m\u001B[43m,\u001B[49m\n\u001B[0;32m     51\u001B[0m \u001B[43m               \u001B[49m\u001B[43muser_input\u001B[49m\u001B[38;5;241;43m=\u001B[39;49m\u001B[38;5;124;43m\"\"\"\u001B[39;49m\n\u001B[0;32m     52\u001B[0m \u001B[38;5;124;43m               면접 질문: 팀원과의 갈등이 있을 때 해결한 경험이 있는가?\u001B[39;49m\n\u001B[0;32m     53\u001B[0m \u001B[38;5;124;43m               면접 답변: 안드로이드 앱 프로젝트를 계획할 당시에 추천된 음식을 실제로 먹었는가를 확인하는 방식에 대해서 의견 차이가 있었던 경험이 있습니다.\u001B[39;49m\n\u001B[0;32m     54\u001B[0m \u001B[38;5;124;43m                       저는 처음에 먹을래요 버튼을 추가하자는 의견을, 다른 팀원은 단순히 해당 음식을 클릭했을 때 실제로 먹었다고 판단하자는 의견을 냈었는데\u001B[39;49m\n\u001B[0;32m     55\u001B[0m \u001B[38;5;124;43m                       서로의 의견에 대한 장단점을 이야기하다 보니 아예 누르지 않고 앱을 끌 수도 있다는 새로운 문제점을 발견하게 되었고,\u001B[39;49m\n\u001B[0;32m     56\u001B[0m \u001B[38;5;124;43m                       그 문제점까지 포함해서 해결할 방법을 도출하게 되었습니다.\u001B[39;49m\n\u001B[0;32m     57\u001B[0m \u001B[38;5;124;43m                       이런 경험을 통해서 의견을 주고받으면서 고민하는 과정의 중요성에 알게 되었습니다.\u001B[39;49m\n\u001B[0;32m     58\u001B[0m \u001B[38;5;124;43m               \u001B[39;49m\u001B[38;5;124;43m\"\"\"\u001B[39;49m\n\u001B[0;32m     59\u001B[0m \u001B[43m)\u001B[49m\n",
      "File \u001B[1;32m~\\anaconda3\\envs\\langchain\\lib\\site-packages\\langchain\\chains\\base.py:293\u001B[0m, in \u001B[0;36mChain.run\u001B[1;34m(self, callbacks, tags, *args, **kwargs)\u001B[0m\n\u001B[0;32m    290\u001B[0m     \u001B[38;5;28;01mreturn\u001B[39;00m \u001B[38;5;28mself\u001B[39m(args[\u001B[38;5;241m0\u001B[39m], callbacks\u001B[38;5;241m=\u001B[39mcallbacks, tags\u001B[38;5;241m=\u001B[39mtags)[_output_key]\n\u001B[0;32m    292\u001B[0m \u001B[38;5;28;01mif\u001B[39;00m kwargs \u001B[38;5;129;01mand\u001B[39;00m \u001B[38;5;129;01mnot\u001B[39;00m args:\n\u001B[1;32m--> 293\u001B[0m     \u001B[38;5;28;01mreturn\u001B[39;00m \u001B[38;5;28;43mself\u001B[39;49m\u001B[43m(\u001B[49m\u001B[43mkwargs\u001B[49m\u001B[43m,\u001B[49m\u001B[43m \u001B[49m\u001B[43mcallbacks\u001B[49m\u001B[38;5;241;43m=\u001B[39;49m\u001B[43mcallbacks\u001B[49m\u001B[43m,\u001B[49m\u001B[43m \u001B[49m\u001B[43mtags\u001B[49m\u001B[38;5;241;43m=\u001B[39;49m\u001B[43mtags\u001B[49m\u001B[43m)\u001B[49m[_output_key]\n\u001B[0;32m    295\u001B[0m \u001B[38;5;28;01mif\u001B[39;00m \u001B[38;5;129;01mnot\u001B[39;00m kwargs \u001B[38;5;129;01mand\u001B[39;00m \u001B[38;5;129;01mnot\u001B[39;00m args:\n\u001B[0;32m    296\u001B[0m     \u001B[38;5;28;01mraise\u001B[39;00m \u001B[38;5;167;01mValueError\u001B[39;00m(\n\u001B[0;32m    297\u001B[0m         \u001B[38;5;124m\"\u001B[39m\u001B[38;5;124m`run` supported with either positional arguments or keyword arguments,\u001B[39m\u001B[38;5;124m\"\u001B[39m\n\u001B[0;32m    298\u001B[0m         \u001B[38;5;124m\"\u001B[39m\u001B[38;5;124m but none were provided.\u001B[39m\u001B[38;5;124m\"\u001B[39m\n\u001B[0;32m    299\u001B[0m     )\n",
      "File \u001B[1;32m~\\anaconda3\\envs\\langchain\\lib\\site-packages\\langchain\\chains\\base.py:168\u001B[0m, in \u001B[0;36mChain.__call__\u001B[1;34m(self, inputs, return_only_outputs, callbacks, tags, include_run_info)\u001B[0m\n\u001B[0;32m    166\u001B[0m     \u001B[38;5;28;01mraise\u001B[39;00m e\n\u001B[0;32m    167\u001B[0m run_manager\u001B[38;5;241m.\u001B[39mon_chain_end(outputs)\n\u001B[1;32m--> 168\u001B[0m final_outputs: Dict[\u001B[38;5;28mstr\u001B[39m, Any] \u001B[38;5;241m=\u001B[39m \u001B[38;5;28;43mself\u001B[39;49m\u001B[38;5;241;43m.\u001B[39;49m\u001B[43mprep_outputs\u001B[49m\u001B[43m(\u001B[49m\n\u001B[0;32m    169\u001B[0m \u001B[43m    \u001B[49m\u001B[43minputs\u001B[49m\u001B[43m,\u001B[49m\u001B[43m \u001B[49m\u001B[43moutputs\u001B[49m\u001B[43m,\u001B[49m\u001B[43m \u001B[49m\u001B[43mreturn_only_outputs\u001B[49m\n\u001B[0;32m    170\u001B[0m \u001B[43m\u001B[49m\u001B[43m)\u001B[49m\n\u001B[0;32m    171\u001B[0m \u001B[38;5;28;01mif\u001B[39;00m include_run_info:\n\u001B[0;32m    172\u001B[0m     final_outputs[RUN_KEY] \u001B[38;5;241m=\u001B[39m RunInfo(run_id\u001B[38;5;241m=\u001B[39mrun_manager\u001B[38;5;241m.\u001B[39mrun_id)\n",
      "File \u001B[1;32m~\\anaconda3\\envs\\langchain\\lib\\site-packages\\langchain\\chains\\base.py:233\u001B[0m, in \u001B[0;36mChain.prep_outputs\u001B[1;34m(self, inputs, outputs, return_only_outputs)\u001B[0m\n\u001B[0;32m    231\u001B[0m \u001B[38;5;28mself\u001B[39m\u001B[38;5;241m.\u001B[39m_validate_outputs(outputs)\n\u001B[0;32m    232\u001B[0m \u001B[38;5;28;01mif\u001B[39;00m \u001B[38;5;28mself\u001B[39m\u001B[38;5;241m.\u001B[39mmemory \u001B[38;5;129;01mis\u001B[39;00m \u001B[38;5;129;01mnot\u001B[39;00m \u001B[38;5;28;01mNone\u001B[39;00m:\n\u001B[1;32m--> 233\u001B[0m     \u001B[38;5;28;43mself\u001B[39;49m\u001B[38;5;241;43m.\u001B[39;49m\u001B[43mmemory\u001B[49m\u001B[38;5;241;43m.\u001B[39;49m\u001B[43msave_context\u001B[49m\u001B[43m(\u001B[49m\u001B[43minputs\u001B[49m\u001B[43m,\u001B[49m\u001B[43m \u001B[49m\u001B[43moutputs\u001B[49m\u001B[43m)\u001B[49m\n\u001B[0;32m    234\u001B[0m \u001B[38;5;28;01mif\u001B[39;00m return_only_outputs:\n\u001B[0;32m    235\u001B[0m     \u001B[38;5;28;01mreturn\u001B[39;00m outputs\n",
      "File \u001B[1;32m~\\anaconda3\\envs\\langchain\\lib\\site-packages\\langchain\\memory\\chat_memory.py:34\u001B[0m, in \u001B[0;36mBaseChatMemory.save_context\u001B[1;34m(self, inputs, outputs)\u001B[0m\n\u001B[0;32m     32\u001B[0m \u001B[38;5;28;01mdef\u001B[39;00m \u001B[38;5;21msave_context\u001B[39m(\u001B[38;5;28mself\u001B[39m, inputs: Dict[\u001B[38;5;28mstr\u001B[39m, Any], outputs: Dict[\u001B[38;5;28mstr\u001B[39m, \u001B[38;5;28mstr\u001B[39m]) \u001B[38;5;241m-\u001B[39m\u001B[38;5;241m>\u001B[39m \u001B[38;5;28;01mNone\u001B[39;00m:\n\u001B[0;32m     33\u001B[0m \u001B[38;5;250m    \u001B[39m\u001B[38;5;124;03m\"\"\"Save context from this conversation to buffer.\"\"\"\u001B[39;00m\n\u001B[1;32m---> 34\u001B[0m     input_str, output_str \u001B[38;5;241m=\u001B[39m \u001B[38;5;28;43mself\u001B[39;49m\u001B[38;5;241;43m.\u001B[39;49m\u001B[43m_get_input_output\u001B[49m\u001B[43m(\u001B[49m\u001B[43minputs\u001B[49m\u001B[43m,\u001B[49m\u001B[43m \u001B[49m\u001B[43moutputs\u001B[49m\u001B[43m)\u001B[49m\n\u001B[0;32m     35\u001B[0m     \u001B[38;5;28mself\u001B[39m\u001B[38;5;241m.\u001B[39mchat_memory\u001B[38;5;241m.\u001B[39madd_user_message(input_str)\n\u001B[0;32m     36\u001B[0m     \u001B[38;5;28mself\u001B[39m\u001B[38;5;241m.\u001B[39mchat_memory\u001B[38;5;241m.\u001B[39madd_ai_message(output_str)\n",
      "File \u001B[1;32m~\\anaconda3\\envs\\langchain\\lib\\site-packages\\langchain\\memory\\chat_memory.py:21\u001B[0m, in \u001B[0;36mBaseChatMemory._get_input_output\u001B[1;34m(self, inputs, outputs)\u001B[0m\n\u001B[0;32m     17\u001B[0m \u001B[38;5;28;01mdef\u001B[39;00m \u001B[38;5;21m_get_input_output\u001B[39m(\n\u001B[0;32m     18\u001B[0m     \u001B[38;5;28mself\u001B[39m, inputs: Dict[\u001B[38;5;28mstr\u001B[39m, Any], outputs: Dict[\u001B[38;5;28mstr\u001B[39m, \u001B[38;5;28mstr\u001B[39m]\n\u001B[0;32m     19\u001B[0m ) \u001B[38;5;241m-\u001B[39m\u001B[38;5;241m>\u001B[39m Tuple[\u001B[38;5;28mstr\u001B[39m, \u001B[38;5;28mstr\u001B[39m]:\n\u001B[0;32m     20\u001B[0m     \u001B[38;5;28;01mif\u001B[39;00m \u001B[38;5;28mself\u001B[39m\u001B[38;5;241m.\u001B[39minput_key \u001B[38;5;129;01mis\u001B[39;00m \u001B[38;5;28;01mNone\u001B[39;00m:\n\u001B[1;32m---> 21\u001B[0m         prompt_input_key \u001B[38;5;241m=\u001B[39m \u001B[43mget_prompt_input_key\u001B[49m\u001B[43m(\u001B[49m\u001B[43minputs\u001B[49m\u001B[43m,\u001B[49m\u001B[43m \u001B[49m\u001B[38;5;28;43mself\u001B[39;49m\u001B[38;5;241;43m.\u001B[39;49m\u001B[43mmemory_variables\u001B[49m\u001B[43m)\u001B[49m\n\u001B[0;32m     22\u001B[0m     \u001B[38;5;28;01melse\u001B[39;00m:\n\u001B[0;32m     23\u001B[0m         prompt_input_key \u001B[38;5;241m=\u001B[39m \u001B[38;5;28mself\u001B[39m\u001B[38;5;241m.\u001B[39minput_key\n",
      "File \u001B[1;32m~\\anaconda3\\envs\\langchain\\lib\\site-packages\\langchain\\memory\\utils.py:21\u001B[0m, in \u001B[0;36mget_prompt_input_key\u001B[1;34m(inputs, memory_variables)\u001B[0m\n\u001B[0;32m     19\u001B[0m prompt_input_keys \u001B[38;5;241m=\u001B[39m \u001B[38;5;28mlist\u001B[39m(\u001B[38;5;28mset\u001B[39m(inputs)\u001B[38;5;241m.\u001B[39mdifference(memory_variables \u001B[38;5;241m+\u001B[39m [\u001B[38;5;124m\"\u001B[39m\u001B[38;5;124mstop\u001B[39m\u001B[38;5;124m\"\u001B[39m]))\n\u001B[0;32m     20\u001B[0m \u001B[38;5;28;01mif\u001B[39;00m \u001B[38;5;28mlen\u001B[39m(prompt_input_keys) \u001B[38;5;241m!=\u001B[39m \u001B[38;5;241m1\u001B[39m:\n\u001B[1;32m---> 21\u001B[0m     \u001B[38;5;28;01mraise\u001B[39;00m \u001B[38;5;167;01mValueError\u001B[39;00m(\u001B[38;5;124mf\u001B[39m\u001B[38;5;124m\"\u001B[39m\u001B[38;5;124mOne input key expected got \u001B[39m\u001B[38;5;132;01m{\u001B[39;00mprompt_input_keys\u001B[38;5;132;01m}\u001B[39;00m\u001B[38;5;124m\"\u001B[39m)\n\u001B[0;32m     22\u001B[0m \u001B[38;5;28;01mreturn\u001B[39;00m prompt_input_keys[\u001B[38;5;241m0\u001B[39m]\n",
      "\u001B[1;31mValueError\u001B[0m: One input key expected got ['job_requirements', 'user_input', 'job', 'cover_letter', 'company']"
     ]
    }
   ],
   "source": [
    "# 5. 입력 및 실행\n",
    "input_company = \"LG CNS\"\n",
    "input_job = \"DX Engineer\"\n",
    "\n",
    "input_job_requirements = \"\"\"\n",
    "전사: DX Engineer\n",
    "전공: 전공 무관 (*) 단, 컴퓨터공학/정보통신공학/산업공학/전자전기공학/기계공학 등 이공계열은 우대합니다\n",
    "근무지: 서울특별시\n",
    "인원: 00명\n",
    "상세내용:\n",
    "- 이런 일을 해요\n",
    "  - 다양한 산업 분야에서 DX 신기술로 고객 맞춤형 서비스를 제공하며, 고객 비즈니스에 가치를 더하는 일을 합니다\n",
    "  - 기존에 없던 새로운 시스템을 만들어내고, 시스템을 안정적으로 운영해냅니다.\n",
    "  - 디지털금융, 지능형 정부, 스마트시티, 스마트 교통 서비스 등 편리하고 보다 나은 삶을 위한 변화를 이끌어갑니다.\n",
    "  - 국내외 고객에게 DX환경에 적합한 클라우드 인프라 설계/구축/컨설팅/운영 서비스를 제공합니다.\n",
    "  - 국내 및 해외(미국, 유럽, 중국 등) 데이터센터와 클라우드 인프라 기술을 이용하여, 전 세계를 하나로 연결하는 서비스를 제공합니다.\n",
    "\n",
    "- 이런 분이면 더 좋겠어요!\n",
    "  - 새로운 시도를 즐기고, IT를 통해 세상의 변화를 이끌어가고 싶은 분\n",
    "  - 끊임없이 신기술을 익히고 적용하며 성장하고 싶으신 분\n",
    "  - 비즈니스를 이해하고 더 편리한 서비스를 제공하는데 관심이 많으신 분\n",
    "\"\"\"\n",
    "\n",
    "input_cover_letter = \"\"\"\n",
    "1. LG CNS에서 근무하고 싶은 이유에 대해서 관련된 경험 및 역량 등 자신을 어필할 수 있는 내용을 기반으로 자유롭게 기술하시기 바랍니다.\n",
    "답변:\n",
    "저는 기술적 도전을 통해 기대를 뛰어넘는 결과를 만들어서 사용자에게 더욱 편리한 서비스를 제공하는 개발자가 되고 싶습니다. LG CNS는 최초로 자바를 개발언어로 사용하는 도전을 통해 고객의 니즈를 바탕으로 더욱 뛰어난 결과를 만들어낸 경험이 있고,카카오뱅크 전산시스템을 통해 인터넷 은행의 시대를 열었습니다. 또한 현재 AI,클라우드,IoT,블록체인 등 4차산업기술을 선도하고 있고, 그 중에서도 특히 클라우드 전환과 MSP 사업에 앞서고 가장 많은 AM프로젝트를 수행하는 등 클라우드 기술을 기반으로 디지털 혁신에 앞장서고 있습니다.\n",
    "\n",
    "저는 프로젝트를 진행하며 요구사항을 직접 세우고 분석하는 과정을 통해 애플리케이션 설계,데이터 모델링,백엔드 등에 대한 지식을 갖출 수 있었고, 앱,웹,AI모델링과 같은 다양한 기술에 도전하면서 새로운 기술에 대한 적응력을 얻었습니다. 이러한 경험과 LG CNS의 혁신 정신을 바탕으로 신기술을 배우고 활용하여 고객에게 최고의 서비스를 제공하고자 합니다.\n",
    "\n",
    "\n",
    "2. 지원분야와 관련된 지식이나 경험을 기재하여 주십시오.\n",
    "답변:\n",
    "\"식사 추천 앱\"\n",
    "사용자의 식습관을 토대로 음식을 추천해주는 안드로이드 앱 프로젝트로, 설문 조사를 통해 약 200여 건의 식사 기록을 확보하고 AWS의 SaaS형태의 학습 서비스를 이용하여 학습 한 뒤, AWS 클라우드 서비스를 기반으로 서버를 구축한 서비스입니다. 저는 AWS 서비스와 API를 통해 통신하며 앱에서 음식 추천 목록과 선택된 음식의 정보를 띄워주고, 게시판 및 댓글 기능을 지원하는 등 앱의 기능을 구현하는 역할을 담당했습니다.\n",
    "\n",
    "이 프로젝트를 진행하면서 사용자의 시점에서 직접 요구 사항을 작성하고, 개발자의 시점에서 요구사항을 만족하기 위해 필요한 기술과 리스크를 예측해볼 수 있었습니다. 또한 API를 통한 서버와의 통신 시 주고 받아야 할 요청 사항과 응답 내용에 대한 협의 과정을 겪을 수 있었고, 짧은 시간 내에 프로젝트에 적용하기 위해서 안드로이드 docs를 찾아가며 지식을 습득하고 적용했던 과정을 통해서 새로운 지식 습득에 대한 자신감을 가질 수 있었습니다.\n",
    "\n",
    "\n",
    "3. 10년 뒤 본인이 기대하는 모습을 기재하여 주십시오.\n",
    "답변:\n",
    "지금의 DX는 단순히 종이 신문을 스마트폰으로 보여주고, 쇼핑몰을 인터넷으로 옮기는 것이 아니라 4차 산업 기술을 인프라나 시스템에 적용하고 서비스와 결합하고 있습니다. 하지만 4차 산업 기술들은 이제야 제대로 된 발전 과정에 들어섰을 뿐, 진짜 변화는 지금부터라고 생각합니다. 그 중에서도 클라우드 분야는 앞으로는 개인 컴퓨터 없이 모니터와 마우스만 가지고 컴퓨팅 자원을 빌려서 사용하는 시대가 올 정도로 발전하게 될 것이라고 생각합니다.\n",
    "\n",
    "이런 미래를 앞두고 있는 상황에서 저는 클라우드 기반의 인프라 지식 또한 DX 엔지니어로써 갖추어야 할 소양이라고 생각합니다. 저는 다양한 프로젝트에 참여하여 경험을 쌓으면서 다양한 분야의 업무와 시스템 구조를 파악하며 각 산업에 대한 지식을 갖추고, 동시에 지속적인 자기 계발을 통해 개발 기술과 함께 클라우드 지식까지 갖춘 전문가가 되어 고객의 기대를 뛰어넘는 DX 경험을 제공하는 최고의 인재가 되겠습니다.\n",
    "\"\"\"\n",
    "\n",
    "info_chain.run(company=input_company,\n",
    "               job=input_job,\n",
    "               job_requirements=input_job_requirements,\n",
    "               cover_letter=input_cover_letter,\n",
    "               user_input=\"\"\"\n",
    "               면접 질문: 팀원과의 갈등이 있을 때 해결한 경험이 있는가?\n",
    "               면접 답변: 안드로이드 앱 프로젝트를 계획할 당시에 추천된 음식을 실제로 먹었는가를 확인하는 방식에 대해서 의견 차이가 있었던 경험이 있습니다.\n",
    "                       저는 처음에 먹을래요 버튼을 추가하자는 의견을, 다른 팀원은 단순히 해당 음식을 클릭했을 때 실제로 먹었다고 판단하자는 의견을 냈었는데\n",
    "                       서로의 의견에 대한 장단점을 이야기하다 보니 아예 누르지 않고 앱을 끌 수도 있다는 새로운 문제점을 발견하게 되었고,\n",
    "                       그 문제점까지 포함해서 해결할 방법을 도출하게 되었습니다.\n",
    "                       이런 경험을 통해서 의견을 주고받으면서 고민하는 과정의 중요성에 알게 되었습니다.\n",
    "               \"\"\"\n",
    ")"
   ],
   "metadata": {
    "collapsed": false,
    "ExecuteTime": {
     "end_time": "2023-07-02T12:46:22.141712100Z",
     "start_time": "2023-07-02T12:46:07.324253500Z"
    }
   }
  },
  {
   "cell_type": "code",
   "execution_count": 10,
   "outputs": [],
   "source": [
    "# # 1. template를 만들고, system message prompt로 변환한다.\n",
    "# follow_up_template = \"\"\"\n",
    "# {chat_history}\n",
    "# \"\"\"\n",
    "#\n",
    "# follow_up_prompt = PromptTemplate(\n",
    "#     template=follow_up_template,\n",
    "#     input_variables=[\"chat_history\"]\n",
    "# )\n",
    "#\n",
    "# follow_up_system_message_prompt = SystemMessagePromptTemplate(\n",
    "#     prompt=follow_up_prompt\n",
    "# )"
   ],
   "metadata": {
    "collapsed": false,
    "ExecuteTime": {
     "end_time": "2023-07-02T13:05:35.359116800Z",
     "start_time": "2023-07-02T13:05:35.346113900Z"
    }
   }
  },
  {
   "cell_type": "code",
   "execution_count": 12,
   "outputs": [],
   "source": [
    "# # 2. human_template를 만들고, human message prompt로 변환한다.\n",
    "# user_input_template =\"\"\"\n",
    "# {user_input}\n",
    "# \"\"\"\n",
    "#\n",
    "# user_input_prompt = PromptTemplate(\n",
    "#     template=user_input_template,\n",
    "#     input_variables=[\"user_input\"]\n",
    "# )\n",
    "#\n",
    "# follow_up_human_message_prompt = HumanMessagePromptTemplate(\n",
    "#     prompt=user_input_prompt\n",
    "# )"
   ],
   "metadata": {
    "collapsed": false,
    "ExecuteTime": {
     "end_time": "2023-07-02T13:06:05.470431500Z",
     "start_time": "2023-07-02T13:06:05.465430300Z"
    }
   }
  },
  {
   "cell_type": "code",
   "execution_count": 13,
   "outputs": [],
   "source": [
    "# # 3. system message prompt와 human message prompt를 이용해서 chat prompt를 만든다.\n",
    "# follow_up_chat_prompt = ChatPromptTemplate.from_messages([follow_up_system_message_prompt, follow_up_human_message_prompt])"
   ],
   "metadata": {
    "collapsed": false,
    "ExecuteTime": {
     "end_time": "2023-07-02T13:06:06.069566400Z",
     "start_time": "2023-07-02T13:06:06.059564300Z"
    }
   }
  },
  {
   "cell_type": "code",
   "execution_count": 14,
   "outputs": [],
   "source": [
    "# # 4. Chain으로 llm과 prompt 엮기\n",
    "# follow_up_chain = LLMChain(llm=chat,\n",
    "#                            prompt=follow_up_chat_prompt,\n",
    "#                            verbose=True,\n",
    "#                            memory=memory\n",
    "# )"
   ],
   "metadata": {
    "collapsed": false,
    "ExecuteTime": {
     "end_time": "2023-07-02T13:06:06.639695400Z",
     "start_time": "2023-07-02T13:06:06.627693Z"
    }
   }
  },
  {
   "cell_type": "code",
   "execution_count": 16,
   "outputs": [
    {
     "name": "stdout",
     "output_type": "stream",
     "text": [
      "\n",
      "\n",
      "\u001B[1m> Entering new  chain...\u001B[0m\n",
      "Prompt after formatting:\n",
      "\u001B[32;1m\u001B[1;3mSystem: \n",
      "[]\n",
      "\n",
      "Human: \n",
      "분석한 내용을 바탕으로 follow up question을 해보아라.\n",
      "\u001B[0m\n",
      "Run when LLM starts running.\n",
      "1. 분석 결과에 따르면 어떤 요인이 가장 큰 영향을 미치는 것으로 나타났나요?\n",
      "2. 분석 결과를 토대로 어떤 전략이나 조치를 취할 수 있을까요?\n",
      "3. 분석 결과를 통해 어떤 인사이트나 통찰력을 얻을 수 있었나요?\n",
      "4. 분석 결과가 예상과 일치했는지 확인할 수 있는 방법이 있을까요?\n",
      "5. 분석 결과를 기반으로 어떤 가설을 세울 수 있을까요?\n",
      "\n",
      "\u001B[1m> Finished chain.\u001B[0m\n"
     ]
    },
    {
     "data": {
      "text/plain": "'1. 분석 결과에 따르면 어떤 요인이 가장 큰 영향을 미치는 것으로 나타났나요?\\n2. 분석 결과를 토대로 어떤 전략이나 조치를 취할 수 있을까요?\\n3. 분석 결과를 통해 어떤 인사이트나 통찰력을 얻을 수 있었나요?\\n4. 분석 결과가 예상과 일치했는지 확인할 수 있는 방법이 있을까요?\\n5. 분석 결과를 기반으로 어떤 가설을 세울 수 있을까요?'"
     },
     "execution_count": 16,
     "metadata": {},
     "output_type": "execute_result"
    }
   ],
   "source": [
    "# # 5. 입력 및 실행\n",
    "# follow_up_chain.run(user_input=\"분석한 내용을 바탕으로 follow up question을 해보아라.\")"
   ],
   "metadata": {
    "collapsed": false,
    "ExecuteTime": {
     "end_time": "2023-07-02T13:07:15.039740800Z",
     "start_time": "2023-07-02T13:07:07.903639900Z"
    }
   }
  },
  {
   "cell_type": "code",
   "execution_count": 17,
   "outputs": [],
   "source": [
    "info_template = \"\"\"\n",
    "너는 회사의 신입 사원을 뽑는 면접관이다.\n",
    "주어지는 회사 이름, 직무명, 모집 공고, 그리고 면접자의 자기소개서를 바탕으로 면접자의 답변을 평가한 내용을 이용하여 follow up question 1개를 만들어야 한다.\n",
    "\n",
    "먼저 회사와 직무에 대한 정보는 다음과 같다.\n",
    "```\n",
    "회사명: {company}\n",
    "직무명: {job}\n",
    "모집 공고: {job_requirements}\n",
    "```\n",
    "\n",
    "다음은 면접자의 자기소개서이다.\n",
    "```\n",
    "{cover_letter}\n",
    "```\n",
    "\n",
    "새로운 질문은 아래의 형식을 따라서 출력하라.\n",
    "```\n",
    "심화 질문:\n",
    "\n",
    "```\n",
    "\"\"\"\n",
    "\n",
    "info_prompt = PromptTemplate(\n",
    "    template=info_template,\n",
    "    input_variables=[\"company\", \"job\", \"job_requirements\", \"cover_letter\"]\n",
    ")\n",
    "\n",
    "initial_system_message_prompt = SystemMessagePromptTemplate(\n",
    "    prompt=info_prompt\n",
    ")"
   ],
   "metadata": {
    "collapsed": false,
    "ExecuteTime": {
     "end_time": "2023-07-02T13:12:37.775754500Z",
     "start_time": "2023-07-02T13:12:37.768753200Z"
    }
   }
  },
  {
   "cell_type": "code",
   "execution_count": 18,
   "outputs": [],
   "source": [
    "# 2. human_template를 만들고, human message prompt로 변환한다.\n",
    "user_input_template =\"\"\"\n",
    "{chat_history}\n",
    "{user_input}\n",
    "\"\"\"\n",
    "\n",
    "user_input_prompt = PromptTemplate(\n",
    "    template=user_input_template,\n",
    "    input_variables=[\"chat_history\", \"user_input\"],\n",
    ")\n",
    "\n",
    "initial_human_message_prompt = HumanMessagePromptTemplate(\n",
    "    prompt=user_input_prompt\n",
    ")"
   ],
   "metadata": {
    "collapsed": false,
    "ExecuteTime": {
     "end_time": "2023-07-02T13:12:38.463909600Z",
     "start_time": "2023-07-02T13:12:38.457907900Z"
    }
   }
  },
  {
   "cell_type": "code",
   "execution_count": 19,
   "outputs": [],
   "source": [
    "# 3. system message prompt와 human message prompt를 이용해서 chat prompt를 만든다.\n",
    "initial_chat_prompt = ChatPromptTemplate.from_messages([initial_system_message_prompt, initial_human_message_prompt])"
   ],
   "metadata": {
    "collapsed": false,
    "ExecuteTime": {
     "end_time": "2023-07-02T13:12:39.004031500Z",
     "start_time": "2023-07-02T13:12:38.988027700Z"
    }
   }
  },
  {
   "cell_type": "code",
   "execution_count": 20,
   "outputs": [],
   "source": [
    "# 4. Chain으로 llm과 prompt 엮기\n",
    "info_chain = LLMChain(llm=chat,\n",
    "                      prompt=initial_chat_prompt,\n",
    "                      verbose=True,\n",
    "                      memory=memory\n",
    ")"
   ],
   "metadata": {
    "collapsed": false,
    "ExecuteTime": {
     "end_time": "2023-07-02T13:12:39.483138900Z",
     "start_time": "2023-07-02T13:12:39.473137700Z"
    }
   }
  },
  {
   "cell_type": "code",
   "execution_count": 21,
   "outputs": [
    {
     "name": "stdout",
     "output_type": "stream",
     "text": [
      "\n",
      "\n",
      "\u001B[1m> Entering new  chain...\u001B[0m\n",
      "Prompt after formatting:\n",
      "\u001B[32;1m\u001B[1;3mSystem: \n",
      "너는 회사의 신입 사원을 뽑는 면접관이다.\n",
      "주어지는 회사 이름, 직무명, 모집 공고, 그리고 면접자의 자기소개서를 바탕으로 면접자의 답변을 평가한 내용을 이용하여 follow up question 1개를 만들어야 한다.\n",
      "\n",
      "먼저 회사와 직무에 대한 정보는 다음과 같다.\n",
      "```\n",
      "회사명: LG CNS\n",
      "직무명: DX Engineer\n",
      "모집 공고: \n",
      "전사: DX Engineer\n",
      "전공: 전공 무관 (*) 단, 컴퓨터공학/정보통신공학/산업공학/전자전기공학/기계공학 등 이공계열은 우대합니다\n",
      "근무지: 서울특별시\n",
      "인원: 00명\n",
      "상세내용:\n",
      "- 이런 일을 해요\n",
      "  - 다양한 산업 분야에서 DX 신기술로 고객 맞춤형 서비스를 제공하며, 고객 비즈니스에 가치를 더하는 일을 합니다\n",
      "  - 기존에 없던 새로운 시스템을 만들어내고, 시스템을 안정적으로 운영해냅니다.\n",
      "  - 디지털금융, 지능형 정부, 스마트시티, 스마트 교통 서비스 등 편리하고 보다 나은 삶을 위한 변화를 이끌어갑니다.\n",
      "  - 국내외 고객에게 DX환경에 적합한 클라우드 인프라 설계/구축/컨설팅/운영 서비스를 제공합니다.\n",
      "  - 국내 및 해외(미국, 유럽, 중국 등) 데이터센터와 클라우드 인프라 기술을 이용하여, 전 세계를 하나로 연결하는 서비스를 제공합니다.\n",
      "\n",
      "- 이런 분이면 더 좋겠어요!\n",
      "  - 새로운 시도를 즐기고, IT를 통해 세상의 변화를 이끌어가고 싶은 분\n",
      "  - 끊임없이 신기술을 익히고 적용하며 성장하고 싶으신 분\n",
      "  - 비즈니스를 이해하고 더 편리한 서비스를 제공하는데 관심이 많으신 분\n",
      "\n",
      "```\n",
      "\n",
      "다음은 면접자의 자기소개서이다.\n",
      "```\n",
      "\n",
      "1. LG CNS에서 근무하고 싶은 이유에 대해서 관련된 경험 및 역량 등 자신을 어필할 수 있는 내용을 기반으로 자유롭게 기술하시기 바랍니다.\n",
      "답변:\n",
      "저는 기술적 도전을 통해 기대를 뛰어넘는 결과를 만들어서 사용자에게 더욱 편리한 서비스를 제공하는 개발자가 되고 싶습니다. LG CNS는 최초로 자바를 개발언어로 사용하는 도전을 통해 고객의 니즈를 바탕으로 더욱 뛰어난 결과를 만들어낸 경험이 있고,카카오뱅크 전산시스템을 통해 인터넷 은행의 시대를 열었습니다. 또한 현재 AI,클라우드,IoT,블록체인 등 4차산업기술을 선도하고 있고, 그 중에서도 특히 클라우드 전환과 MSP 사업에 앞서고 가장 많은 AM프로젝트를 수행하는 등 클라우드 기술을 기반으로 디지털 혁신에 앞장서고 있습니다.\n",
      "\n",
      "저는 프로젝트를 진행하며 요구사항을 직접 세우고 분석하는 과정을 통해 애플리케이션 설계,데이터 모델링,백엔드 등에 대한 지식을 갖출 수 있었고, 앱,웹,AI모델링과 같은 다양한 기술에 도전하면서 새로운 기술에 대한 적응력을 얻었습니다. 이러한 경험과 LG CNS의 혁신 정신을 바탕으로 신기술을 배우고 활용하여 고객에게 최고의 서비스를 제공하고자 합니다.\n",
      "\n",
      "\n",
      "2. 지원분야와 관련된 지식이나 경험을 기재하여 주십시오.\n",
      "답변:\n",
      "\"식사 추천 앱\"\n",
      "사용자의 식습관을 토대로 음식을 추천해주는 안드로이드 앱 프로젝트로, 설문 조사를 통해 약 200여 건의 식사 기록을 확보하고 AWS의 SaaS형태의 학습 서비스를 이용하여 학습 한 뒤, AWS 클라우드 서비스를 기반으로 서버를 구축한 서비스입니다. 저는 AWS 서비스와 API를 통해 통신하며 앱에서 음식 추천 목록과 선택된 음식의 정보를 띄워주고, 게시판 및 댓글 기능을 지원하는 등 앱의 기능을 구현하는 역할을 담당했습니다.\n",
      "\n",
      "이 프로젝트를 진행하면서 사용자의 시점에서 직접 요구 사항을 작성하고, 개발자의 시점에서 요구사항을 만족하기 위해 필요한 기술과 리스크를 예측해볼 수 있었습니다. 또한 API를 통한 서버와의 통신 시 주고 받아야 할 요청 사항과 응답 내용에 대한 협의 과정을 겪을 수 있었고, 짧은 시간 내에 프로젝트에 적용하기 위해서 안드로이드 docs를 찾아가며 지식을 습득하고 적용했던 과정을 통해서 새로운 지식 습득에 대한 자신감을 가질 수 있었습니다.\n",
      "\n",
      "\n",
      "3. 10년 뒤 본인이 기대하는 모습을 기재하여 주십시오.\n",
      "답변:\n",
      "지금의 DX는 단순히 종이 신문을 스마트폰으로 보여주고, 쇼핑몰을 인터넷으로 옮기는 것이 아니라 4차 산업 기술을 인프라나 시스템에 적용하고 서비스와 결합하고 있습니다. 하지만 4차 산업 기술들은 이제야 제대로 된 발전 과정에 들어섰을 뿐, 진짜 변화는 지금부터라고 생각합니다. 그 중에서도 클라우드 분야는 앞으로는 개인 컴퓨터 없이 모니터와 마우스만 가지고 컴퓨팅 자원을 빌려서 사용하는 시대가 올 정도로 발전하게 될 것이라고 생각합니다.\n",
      "\n",
      "이런 미래를 앞두고 있는 상황에서 저는 클라우드 기반의 인프라 지식 또한 DX 엔지니어로써 갖추어야 할 소양이라고 생각합니다. 저는 다양한 프로젝트에 참여하여 경험을 쌓으면서 다양한 분야의 업무와 시스템 구조를 파악하며 각 산업에 대한 지식을 갖추고, 동시에 지속적인 자기 계발을 통해 개발 기술과 함께 클라우드 지식까지 갖춘 전문가가 되어 고객의 기대를 뛰어넘는 DX 경험을 제공하는 최고의 인재가 되겠습니다.\n",
      "\n",
      "```\n",
      "\n",
      "새로운 질문은 아래의 형식을 따라서 출력하라.\n",
      "```\n",
      "심화 질문:\n",
      "\n",
      "```\n",
      "\n",
      "Human: \n",
      "[HumanMessage(content='분석한 내용을 바탕으로 follow up question을 해보아라.', additional_kwargs={}, example=False), AIMessage(content='1. 분석 결과에 따르면 어떤 요인이 가장 큰 영향을 미치는 것으로 나타났나요?\\n2. 분석 결과를 토대로 어떤 전략이나 조치를 취할 수 있을까요?\\n3. 분석 결과를 통해 어떤 인사이트나 통찰력을 얻을 수 있었나요?\\n4. 분석 결과가 예상과 일치했는지 확인할 수 있는 방법이 있을까요?\\n5. 분석 결과를 기반으로 어떤 가설을 세울 수 있을까요?', additional_kwargs={}, example=False)]\n",
      "\n",
      "               평가를 보고 follow up question을 1개 제시하라.\n",
      "               \n",
      "\u001B[0m\n",
      "Run when LLM starts running.\n",
      "심화 질문:\n",
      "\n",
      "1. 분석 결과에 따르면 LG CNS에서 가장 중요하게 여기는 역량은 무엇인가요? 어떤 이유로 그 역량을 가지고 있는지 설명해주세요.\n",
      "\n",
      "\u001B[1m> Finished chain.\u001B[0m\n"
     ]
    },
    {
     "ename": "ValueError",
     "evalue": "One input key expected got ['job_requirements', 'user_input', 'job', 'cover_letter', 'company']",
     "output_type": "error",
     "traceback": [
      "\u001B[1;31m---------------------------------------------------------------------------\u001B[0m",
      "\u001B[1;31mValueError\u001B[0m                                Traceback (most recent call last)",
      "Cell \u001B[1;32mIn[21], line 47\u001B[0m\n\u001B[0;32m      5\u001B[0m input_job_requirements \u001B[38;5;241m=\u001B[39m \u001B[38;5;124m\"\"\"\u001B[39m\n\u001B[0;32m      6\u001B[0m \u001B[38;5;124m전사: DX Engineer\u001B[39m\n\u001B[0;32m      7\u001B[0m \u001B[38;5;124m전공: 전공 무관 (*) 단, 컴퓨터공학/정보통신공학/산업공학/전자전기공학/기계공학 등 이공계열은 우대합니다\u001B[39m\n\u001B[1;32m   (...)\u001B[0m\n\u001B[0;32m     21\u001B[0m \u001B[38;5;124m  - 비즈니스를 이해하고 더 편리한 서비스를 제공하는데 관심이 많으신 분\u001B[39m\n\u001B[0;32m     22\u001B[0m \u001B[38;5;124m\"\"\"\u001B[39m\n\u001B[0;32m     24\u001B[0m input_cover_letter \u001B[38;5;241m=\u001B[39m \u001B[38;5;124m\"\"\"\u001B[39m\n\u001B[0;32m     25\u001B[0m \u001B[38;5;124m1. LG CNS에서 근무하고 싶은 이유에 대해서 관련된 경험 및 역량 등 자신을 어필할 수 있는 내용을 기반으로 자유롭게 기술하시기 바랍니다.\u001B[39m\n\u001B[0;32m     26\u001B[0m \u001B[38;5;124m답변:\u001B[39m\n\u001B[1;32m   (...)\u001B[0m\n\u001B[0;32m     44\u001B[0m \u001B[38;5;124m이런 미래를 앞두고 있는 상황에서 저는 클라우드 기반의 인프라 지식 또한 DX 엔지니어로써 갖추어야 할 소양이라고 생각합니다. 저는 다양한 프로젝트에 참여하여 경험을 쌓으면서 다양한 분야의 업무와 시스템 구조를 파악하며 각 산업에 대한 지식을 갖추고, 동시에 지속적인 자기 계발을 통해 개발 기술과 함께 클라우드 지식까지 갖춘 전문가가 되어 고객의 기대를 뛰어넘는 DX 경험을 제공하는 최고의 인재가 되겠습니다.\u001B[39m\n\u001B[0;32m     45\u001B[0m \u001B[38;5;124m\"\"\"\u001B[39m\n\u001B[1;32m---> 47\u001B[0m \u001B[43minfo_chain\u001B[49m\u001B[38;5;241;43m.\u001B[39;49m\u001B[43mrun\u001B[49m\u001B[43m(\u001B[49m\u001B[43mcompany\u001B[49m\u001B[38;5;241;43m=\u001B[39;49m\u001B[43minput_company\u001B[49m\u001B[43m,\u001B[49m\n\u001B[0;32m     48\u001B[0m \u001B[43m               \u001B[49m\u001B[43mjob\u001B[49m\u001B[38;5;241;43m=\u001B[39;49m\u001B[43minput_job\u001B[49m\u001B[43m,\u001B[49m\n\u001B[0;32m     49\u001B[0m \u001B[43m               \u001B[49m\u001B[43mjob_requirements\u001B[49m\u001B[38;5;241;43m=\u001B[39;49m\u001B[43minput_job_requirements\u001B[49m\u001B[43m,\u001B[49m\n\u001B[0;32m     50\u001B[0m \u001B[43m               \u001B[49m\u001B[43mcover_letter\u001B[49m\u001B[38;5;241;43m=\u001B[39;49m\u001B[43minput_cover_letter\u001B[49m\u001B[43m,\u001B[49m\n\u001B[0;32m     51\u001B[0m \u001B[43m               \u001B[49m\u001B[43muser_input\u001B[49m\u001B[38;5;241;43m=\u001B[39;49m\u001B[38;5;124;43m\"\"\"\u001B[39;49m\n\u001B[0;32m     52\u001B[0m \u001B[38;5;124;43m               평가를 보고 follow up question을 1개 제시하라.\u001B[39;49m\n\u001B[0;32m     53\u001B[0m \u001B[38;5;124;43m               \u001B[39;49m\u001B[38;5;124;43m\"\"\"\u001B[39;49m\n\u001B[0;32m     54\u001B[0m \u001B[43m)\u001B[49m\n",
      "File \u001B[1;32m~\\anaconda3\\envs\\langchain\\lib\\site-packages\\langchain\\chains\\base.py:293\u001B[0m, in \u001B[0;36mChain.run\u001B[1;34m(self, callbacks, tags, *args, **kwargs)\u001B[0m\n\u001B[0;32m    290\u001B[0m     \u001B[38;5;28;01mreturn\u001B[39;00m \u001B[38;5;28mself\u001B[39m(args[\u001B[38;5;241m0\u001B[39m], callbacks\u001B[38;5;241m=\u001B[39mcallbacks, tags\u001B[38;5;241m=\u001B[39mtags)[_output_key]\n\u001B[0;32m    292\u001B[0m \u001B[38;5;28;01mif\u001B[39;00m kwargs \u001B[38;5;129;01mand\u001B[39;00m \u001B[38;5;129;01mnot\u001B[39;00m args:\n\u001B[1;32m--> 293\u001B[0m     \u001B[38;5;28;01mreturn\u001B[39;00m \u001B[38;5;28;43mself\u001B[39;49m\u001B[43m(\u001B[49m\u001B[43mkwargs\u001B[49m\u001B[43m,\u001B[49m\u001B[43m \u001B[49m\u001B[43mcallbacks\u001B[49m\u001B[38;5;241;43m=\u001B[39;49m\u001B[43mcallbacks\u001B[49m\u001B[43m,\u001B[49m\u001B[43m \u001B[49m\u001B[43mtags\u001B[49m\u001B[38;5;241;43m=\u001B[39;49m\u001B[43mtags\u001B[49m\u001B[43m)\u001B[49m[_output_key]\n\u001B[0;32m    295\u001B[0m \u001B[38;5;28;01mif\u001B[39;00m \u001B[38;5;129;01mnot\u001B[39;00m kwargs \u001B[38;5;129;01mand\u001B[39;00m \u001B[38;5;129;01mnot\u001B[39;00m args:\n\u001B[0;32m    296\u001B[0m     \u001B[38;5;28;01mraise\u001B[39;00m \u001B[38;5;167;01mValueError\u001B[39;00m(\n\u001B[0;32m    297\u001B[0m         \u001B[38;5;124m\"\u001B[39m\u001B[38;5;124m`run` supported with either positional arguments or keyword arguments,\u001B[39m\u001B[38;5;124m\"\u001B[39m\n\u001B[0;32m    298\u001B[0m         \u001B[38;5;124m\"\u001B[39m\u001B[38;5;124m but none were provided.\u001B[39m\u001B[38;5;124m\"\u001B[39m\n\u001B[0;32m    299\u001B[0m     )\n",
      "File \u001B[1;32m~\\anaconda3\\envs\\langchain\\lib\\site-packages\\langchain\\chains\\base.py:168\u001B[0m, in \u001B[0;36mChain.__call__\u001B[1;34m(self, inputs, return_only_outputs, callbacks, tags, include_run_info)\u001B[0m\n\u001B[0;32m    166\u001B[0m     \u001B[38;5;28;01mraise\u001B[39;00m e\n\u001B[0;32m    167\u001B[0m run_manager\u001B[38;5;241m.\u001B[39mon_chain_end(outputs)\n\u001B[1;32m--> 168\u001B[0m final_outputs: Dict[\u001B[38;5;28mstr\u001B[39m, Any] \u001B[38;5;241m=\u001B[39m \u001B[38;5;28;43mself\u001B[39;49m\u001B[38;5;241;43m.\u001B[39;49m\u001B[43mprep_outputs\u001B[49m\u001B[43m(\u001B[49m\n\u001B[0;32m    169\u001B[0m \u001B[43m    \u001B[49m\u001B[43minputs\u001B[49m\u001B[43m,\u001B[49m\u001B[43m \u001B[49m\u001B[43moutputs\u001B[49m\u001B[43m,\u001B[49m\u001B[43m \u001B[49m\u001B[43mreturn_only_outputs\u001B[49m\n\u001B[0;32m    170\u001B[0m \u001B[43m\u001B[49m\u001B[43m)\u001B[49m\n\u001B[0;32m    171\u001B[0m \u001B[38;5;28;01mif\u001B[39;00m include_run_info:\n\u001B[0;32m    172\u001B[0m     final_outputs[RUN_KEY] \u001B[38;5;241m=\u001B[39m RunInfo(run_id\u001B[38;5;241m=\u001B[39mrun_manager\u001B[38;5;241m.\u001B[39mrun_id)\n",
      "File \u001B[1;32m~\\anaconda3\\envs\\langchain\\lib\\site-packages\\langchain\\chains\\base.py:233\u001B[0m, in \u001B[0;36mChain.prep_outputs\u001B[1;34m(self, inputs, outputs, return_only_outputs)\u001B[0m\n\u001B[0;32m    231\u001B[0m \u001B[38;5;28mself\u001B[39m\u001B[38;5;241m.\u001B[39m_validate_outputs(outputs)\n\u001B[0;32m    232\u001B[0m \u001B[38;5;28;01mif\u001B[39;00m \u001B[38;5;28mself\u001B[39m\u001B[38;5;241m.\u001B[39mmemory \u001B[38;5;129;01mis\u001B[39;00m \u001B[38;5;129;01mnot\u001B[39;00m \u001B[38;5;28;01mNone\u001B[39;00m:\n\u001B[1;32m--> 233\u001B[0m     \u001B[38;5;28;43mself\u001B[39;49m\u001B[38;5;241;43m.\u001B[39;49m\u001B[43mmemory\u001B[49m\u001B[38;5;241;43m.\u001B[39;49m\u001B[43msave_context\u001B[49m\u001B[43m(\u001B[49m\u001B[43minputs\u001B[49m\u001B[43m,\u001B[49m\u001B[43m \u001B[49m\u001B[43moutputs\u001B[49m\u001B[43m)\u001B[49m\n\u001B[0;32m    234\u001B[0m \u001B[38;5;28;01mif\u001B[39;00m return_only_outputs:\n\u001B[0;32m    235\u001B[0m     \u001B[38;5;28;01mreturn\u001B[39;00m outputs\n",
      "File \u001B[1;32m~\\anaconda3\\envs\\langchain\\lib\\site-packages\\langchain\\memory\\chat_memory.py:34\u001B[0m, in \u001B[0;36mBaseChatMemory.save_context\u001B[1;34m(self, inputs, outputs)\u001B[0m\n\u001B[0;32m     32\u001B[0m \u001B[38;5;28;01mdef\u001B[39;00m \u001B[38;5;21msave_context\u001B[39m(\u001B[38;5;28mself\u001B[39m, inputs: Dict[\u001B[38;5;28mstr\u001B[39m, Any], outputs: Dict[\u001B[38;5;28mstr\u001B[39m, \u001B[38;5;28mstr\u001B[39m]) \u001B[38;5;241m-\u001B[39m\u001B[38;5;241m>\u001B[39m \u001B[38;5;28;01mNone\u001B[39;00m:\n\u001B[0;32m     33\u001B[0m \u001B[38;5;250m    \u001B[39m\u001B[38;5;124;03m\"\"\"Save context from this conversation to buffer.\"\"\"\u001B[39;00m\n\u001B[1;32m---> 34\u001B[0m     input_str, output_str \u001B[38;5;241m=\u001B[39m \u001B[38;5;28;43mself\u001B[39;49m\u001B[38;5;241;43m.\u001B[39;49m\u001B[43m_get_input_output\u001B[49m\u001B[43m(\u001B[49m\u001B[43minputs\u001B[49m\u001B[43m,\u001B[49m\u001B[43m \u001B[49m\u001B[43moutputs\u001B[49m\u001B[43m)\u001B[49m\n\u001B[0;32m     35\u001B[0m     \u001B[38;5;28mself\u001B[39m\u001B[38;5;241m.\u001B[39mchat_memory\u001B[38;5;241m.\u001B[39madd_user_message(input_str)\n\u001B[0;32m     36\u001B[0m     \u001B[38;5;28mself\u001B[39m\u001B[38;5;241m.\u001B[39mchat_memory\u001B[38;5;241m.\u001B[39madd_ai_message(output_str)\n",
      "File \u001B[1;32m~\\anaconda3\\envs\\langchain\\lib\\site-packages\\langchain\\memory\\chat_memory.py:21\u001B[0m, in \u001B[0;36mBaseChatMemory._get_input_output\u001B[1;34m(self, inputs, outputs)\u001B[0m\n\u001B[0;32m     17\u001B[0m \u001B[38;5;28;01mdef\u001B[39;00m \u001B[38;5;21m_get_input_output\u001B[39m(\n\u001B[0;32m     18\u001B[0m     \u001B[38;5;28mself\u001B[39m, inputs: Dict[\u001B[38;5;28mstr\u001B[39m, Any], outputs: Dict[\u001B[38;5;28mstr\u001B[39m, \u001B[38;5;28mstr\u001B[39m]\n\u001B[0;32m     19\u001B[0m ) \u001B[38;5;241m-\u001B[39m\u001B[38;5;241m>\u001B[39m Tuple[\u001B[38;5;28mstr\u001B[39m, \u001B[38;5;28mstr\u001B[39m]:\n\u001B[0;32m     20\u001B[0m     \u001B[38;5;28;01mif\u001B[39;00m \u001B[38;5;28mself\u001B[39m\u001B[38;5;241m.\u001B[39minput_key \u001B[38;5;129;01mis\u001B[39;00m \u001B[38;5;28;01mNone\u001B[39;00m:\n\u001B[1;32m---> 21\u001B[0m         prompt_input_key \u001B[38;5;241m=\u001B[39m \u001B[43mget_prompt_input_key\u001B[49m\u001B[43m(\u001B[49m\u001B[43minputs\u001B[49m\u001B[43m,\u001B[49m\u001B[43m \u001B[49m\u001B[38;5;28;43mself\u001B[39;49m\u001B[38;5;241;43m.\u001B[39;49m\u001B[43mmemory_variables\u001B[49m\u001B[43m)\u001B[49m\n\u001B[0;32m     22\u001B[0m     \u001B[38;5;28;01melse\u001B[39;00m:\n\u001B[0;32m     23\u001B[0m         prompt_input_key \u001B[38;5;241m=\u001B[39m \u001B[38;5;28mself\u001B[39m\u001B[38;5;241m.\u001B[39minput_key\n",
      "File \u001B[1;32m~\\anaconda3\\envs\\langchain\\lib\\site-packages\\langchain\\memory\\utils.py:21\u001B[0m, in \u001B[0;36mget_prompt_input_key\u001B[1;34m(inputs, memory_variables)\u001B[0m\n\u001B[0;32m     19\u001B[0m prompt_input_keys \u001B[38;5;241m=\u001B[39m \u001B[38;5;28mlist\u001B[39m(\u001B[38;5;28mset\u001B[39m(inputs)\u001B[38;5;241m.\u001B[39mdifference(memory_variables \u001B[38;5;241m+\u001B[39m [\u001B[38;5;124m\"\u001B[39m\u001B[38;5;124mstop\u001B[39m\u001B[38;5;124m\"\u001B[39m]))\n\u001B[0;32m     20\u001B[0m \u001B[38;5;28;01mif\u001B[39;00m \u001B[38;5;28mlen\u001B[39m(prompt_input_keys) \u001B[38;5;241m!=\u001B[39m \u001B[38;5;241m1\u001B[39m:\n\u001B[1;32m---> 21\u001B[0m     \u001B[38;5;28;01mraise\u001B[39;00m \u001B[38;5;167;01mValueError\u001B[39;00m(\u001B[38;5;124mf\u001B[39m\u001B[38;5;124m\"\u001B[39m\u001B[38;5;124mOne input key expected got \u001B[39m\u001B[38;5;132;01m{\u001B[39;00mprompt_input_keys\u001B[38;5;132;01m}\u001B[39;00m\u001B[38;5;124m\"\u001B[39m)\n\u001B[0;32m     22\u001B[0m \u001B[38;5;28;01mreturn\u001B[39;00m prompt_input_keys[\u001B[38;5;241m0\u001B[39m]\n",
      "\u001B[1;31mValueError\u001B[0m: One input key expected got ['job_requirements', 'user_input', 'job', 'cover_letter', 'company']"
     ]
    }
   ],
   "source": [
    "# 5. 입력 및 실행\n",
    "input_company = \"LG CNS\"\n",
    "input_job = \"DX Engineer\"\n",
    "\n",
    "input_job_requirements = \"\"\"\n",
    "전사: DX Engineer\n",
    "전공: 전공 무관 (*) 단, 컴퓨터공학/정보통신공학/산업공학/전자전기공학/기계공학 등 이공계열은 우대합니다\n",
    "근무지: 서울특별시\n",
    "인원: 00명\n",
    "상세내용:\n",
    "- 이런 일을 해요\n",
    "  - 다양한 산업 분야에서 DX 신기술로 고객 맞춤형 서비스를 제공하며, 고객 비즈니스에 가치를 더하는 일을 합니다\n",
    "  - 기존에 없던 새로운 시스템을 만들어내고, 시스템을 안정적으로 운영해냅니다.\n",
    "  - 디지털금융, 지능형 정부, 스마트시티, 스마트 교통 서비스 등 편리하고 보다 나은 삶을 위한 변화를 이끌어갑니다.\n",
    "  - 국내외 고객에게 DX환경에 적합한 클라우드 인프라 설계/구축/컨설팅/운영 서비스를 제공합니다.\n",
    "  - 국내 및 해외(미국, 유럽, 중국 등) 데이터센터와 클라우드 인프라 기술을 이용하여, 전 세계를 하나로 연결하는 서비스를 제공합니다.\n",
    "\n",
    "- 이런 분이면 더 좋겠어요!\n",
    "  - 새로운 시도를 즐기고, IT를 통해 세상의 변화를 이끌어가고 싶은 분\n",
    "  - 끊임없이 신기술을 익히고 적용하며 성장하고 싶으신 분\n",
    "  - 비즈니스를 이해하고 더 편리한 서비스를 제공하는데 관심이 많으신 분\n",
    "\"\"\"\n",
    "\n",
    "input_cover_letter = \"\"\"\n",
    "1. LG CNS에서 근무하고 싶은 이유에 대해서 관련된 경험 및 역량 등 자신을 어필할 수 있는 내용을 기반으로 자유롭게 기술하시기 바랍니다.\n",
    "답변:\n",
    "저는 기술적 도전을 통해 기대를 뛰어넘는 결과를 만들어서 사용자에게 더욱 편리한 서비스를 제공하는 개발자가 되고 싶습니다. LG CNS는 최초로 자바를 개발언어로 사용하는 도전을 통해 고객의 니즈를 바탕으로 더욱 뛰어난 결과를 만들어낸 경험이 있고,카카오뱅크 전산시스템을 통해 인터넷 은행의 시대를 열었습니다. 또한 현재 AI,클라우드,IoT,블록체인 등 4차산업기술을 선도하고 있고, 그 중에서도 특히 클라우드 전환과 MSP 사업에 앞서고 가장 많은 AM프로젝트를 수행하는 등 클라우드 기술을 기반으로 디지털 혁신에 앞장서고 있습니다.\n",
    "\n",
    "저는 프로젝트를 진행하며 요구사항을 직접 세우고 분석하는 과정을 통해 애플리케이션 설계,데이터 모델링,백엔드 등에 대한 지식을 갖출 수 있었고, 앱,웹,AI모델링과 같은 다양한 기술에 도전하면서 새로운 기술에 대한 적응력을 얻었습니다. 이러한 경험과 LG CNS의 혁신 정신을 바탕으로 신기술을 배우고 활용하여 고객에게 최고의 서비스를 제공하고자 합니다.\n",
    "\n",
    "\n",
    "2. 지원분야와 관련된 지식이나 경험을 기재하여 주십시오.\n",
    "답변:\n",
    "\"식사 추천 앱\"\n",
    "사용자의 식습관을 토대로 음식을 추천해주는 안드로이드 앱 프로젝트로, 설문 조사를 통해 약 200여 건의 식사 기록을 확보하고 AWS의 SaaS형태의 학습 서비스를 이용하여 학습 한 뒤, AWS 클라우드 서비스를 기반으로 서버를 구축한 서비스입니다. 저는 AWS 서비스와 API를 통해 통신하며 앱에서 음식 추천 목록과 선택된 음식의 정보를 띄워주고, 게시판 및 댓글 기능을 지원하는 등 앱의 기능을 구현하는 역할을 담당했습니다.\n",
    "\n",
    "이 프로젝트를 진행하면서 사용자의 시점에서 직접 요구 사항을 작성하고, 개발자의 시점에서 요구사항을 만족하기 위해 필요한 기술과 리스크를 예측해볼 수 있었습니다. 또한 API를 통한 서버와의 통신 시 주고 받아야 할 요청 사항과 응답 내용에 대한 협의 과정을 겪을 수 있었고, 짧은 시간 내에 프로젝트에 적용하기 위해서 안드로이드 docs를 찾아가며 지식을 습득하고 적용했던 과정을 통해서 새로운 지식 습득에 대한 자신감을 가질 수 있었습니다.\n",
    "\n",
    "\n",
    "3. 10년 뒤 본인이 기대하는 모습을 기재하여 주십시오.\n",
    "답변:\n",
    "지금의 DX는 단순히 종이 신문을 스마트폰으로 보여주고, 쇼핑몰을 인터넷으로 옮기는 것이 아니라 4차 산업 기술을 인프라나 시스템에 적용하고 서비스와 결합하고 있습니다. 하지만 4차 산업 기술들은 이제야 제대로 된 발전 과정에 들어섰을 뿐, 진짜 변화는 지금부터라고 생각합니다. 그 중에서도 클라우드 분야는 앞으로는 개인 컴퓨터 없이 모니터와 마우스만 가지고 컴퓨팅 자원을 빌려서 사용하는 시대가 올 정도로 발전하게 될 것이라고 생각합니다.\n",
    "\n",
    "이런 미래를 앞두고 있는 상황에서 저는 클라우드 기반의 인프라 지식 또한 DX 엔지니어로써 갖추어야 할 소양이라고 생각합니다. 저는 다양한 프로젝트에 참여하여 경험을 쌓으면서 다양한 분야의 업무와 시스템 구조를 파악하며 각 산업에 대한 지식을 갖추고, 동시에 지속적인 자기 계발을 통해 개발 기술과 함께 클라우드 지식까지 갖춘 전문가가 되어 고객의 기대를 뛰어넘는 DX 경험을 제공하는 최고의 인재가 되겠습니다.\n",
    "\"\"\"\n",
    "\n",
    "info_chain.run(company=input_company,\n",
    "               job=input_job,\n",
    "               job_requirements=input_job_requirements,\n",
    "               cover_letter=input_cover_letter,\n",
    "               user_input=\"\"\"\n",
    "               면접관의 분석 중 아쉬운 점을 이용하여 follow up question을 1개 제시하라.\n",
    "               \"\"\"\n",
    ")"
   ],
   "metadata": {
    "collapsed": false,
    "ExecuteTime": {
     "end_time": "2023-07-02T13:12:43.670083500Z",
     "start_time": "2023-07-02T13:12:40.106279900Z"
    }
   }
  },
  {
   "cell_type": "code",
   "execution_count": null,
   "outputs": [],
   "source": [],
   "metadata": {
    "collapsed": false
   }
  }
 ],
 "metadata": {
  "kernelspec": {
   "display_name": "Python 3",
   "language": "python",
   "name": "python3"
  },
  "language_info": {
   "codemirror_mode": {
    "name": "ipython",
    "version": 2
   },
   "file_extension": ".py",
   "mimetype": "text/x-python",
   "name": "python",
   "nbconvert_exporter": "python",
   "pygments_lexer": "ipython2",
   "version": "2.7.6"
  }
 },
 "nbformat": 4,
 "nbformat_minor": 0
}
